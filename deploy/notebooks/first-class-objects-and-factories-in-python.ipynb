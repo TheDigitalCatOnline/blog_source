{
 "cells": [
  {
   "cell_type": "markdown",
   "id": "super-watch",
   "metadata": {},
   "source": [
    "# First-class objects and factories in Python"
   ]
  },
  {
   "cell_type": "markdown",
   "id": "interstate-briefs",
   "metadata": {},
   "source": [
    "## Recap: how to define functions in Python"
   ]
  },
  {
   "cell_type": "code",
   "execution_count": null,
   "id": "furnished-boards",
   "metadata": {},
   "outputs": [],
   "source": [
    "def square(x):\n",
    "    return x * x"
   ]
  },
  {
   "cell_type": "markdown",
   "id": "enclosed-nicholas",
   "metadata": {},
   "source": [
    "## Functions as arguments: generic functions"
   ]
  },
  {
   "cell_type": "code",
   "execution_count": null,
   "id": "tired-surveillance",
   "metadata": {},
   "outputs": [],
   "source": [
    "def process(func, value):\n",
    "    return func(value)"
   ]
  },
  {
   "cell_type": "code",
   "execution_count": null,
   "id": "stuck-gallery",
   "metadata": {},
   "outputs": [],
   "source": [
    "process(square, 5)"
   ]
  },
  {
   "cell_type": "code",
   "execution_count": null,
   "id": "military-postage",
   "metadata": {},
   "outputs": [],
   "source": [
    "def inc(x):\n",
    "    return x + 1"
   ]
  },
  {
   "cell_type": "code",
   "execution_count": null,
   "id": "rocky-shelf",
   "metadata": {},
   "outputs": [],
   "source": [
    "process(inc, 5)"
   ]
  },
  {
   "cell_type": "markdown",
   "id": "independent-consumer",
   "metadata": {},
   "source": [
    "### Exercise 1"
   ]
  },
  {
   "cell_type": "markdown",
   "id": "confident-revision",
   "metadata": {},
   "source": [
    "Write a function `apply` that accepts a function and an iterable (e.g. a list) and applies the function to each element of the iterable."
   ]
  },
  {
   "cell_type": "code",
   "execution_count": null,
   "id": "nominated-salvation",
   "metadata": {},
   "outputs": [],
   "source": [
    "# def apply(func, iterable):\n",
    "#\n",
    "# apply(square, [1,2,3,4])\n",
    "# [1, 4, 9, 16]"
   ]
  },
  {
   "cell_type": "markdown",
   "id": "textile-mexico",
   "metadata": {},
   "source": [
    "### Exercise 2"
   ]
  },
  {
   "cell_type": "markdown",
   "id": "absolute-toolbox",
   "metadata": {},
   "source": [
    "Define a function `dec` that decrements by 1 the argument (mirroring `inc`). Then create a function called `compute` that accepts a list of functions and a single value, and applies each function to the value."
   ]
  },
  {
   "cell_type": "code",
   "execution_count": null,
   "id": "southern-header",
   "metadata": {},
   "outputs": [],
   "source": [
    "# def compute(functions, value):\n",
    "#\n",
    "# compute([square, inc, dec], 5)\n",
    "# [25, 6, 4]"
   ]
  },
  {
   "cell_type": "markdown",
   "id": "relevant-explosion",
   "metadata": {},
   "source": [
    "### Batteries included"
   ]
  },
  {
   "cell_type": "markdown",
   "id": "facial-puzzle",
   "metadata": {},
   "source": [
    "* https://docs.python.org/3/library/functions.html#map"
   ]
  },
  {
   "cell_type": "code",
   "execution_count": null,
   "id": "sweet-suffering",
   "metadata": {},
   "outputs": [],
   "source": [
    "map(square, [1,2,3,4])"
   ]
  },
  {
   "cell_type": "code",
   "execution_count": null,
   "id": "perfect-jersey",
   "metadata": {},
   "outputs": [],
   "source": [
    "list(map(square, [1,2,3,4]))"
   ]
  },
  {
   "cell_type": "markdown",
   "id": "entitled-aruba",
   "metadata": {},
   "source": [
    "## Nested functions: wrappers"
   ]
  },
  {
   "cell_type": "code",
   "execution_count": null,
   "id": "pressed-escape",
   "metadata": {},
   "outputs": [],
   "source": [
    "def remove_extensions(file_list):\n",
    "    results = []\n",
    "    for i in file_list:\n",
    "        if \".\" in i:\n",
    "            ext = i.split(\".\")[-1]\n",
    "        else:\n",
    "            ext = \"\"\n",
    "        results.append(ext)\n",
    "    return results"
   ]
  },
  {
   "cell_type": "code",
   "execution_count": null,
   "id": "saved-seminar",
   "metadata": {},
   "outputs": [],
   "source": [
    "remove_extensions([\"foo.txt\", \"bar.mp4\", \"python3\"])"
   ]
  },
  {
   "cell_type": "code",
   "execution_count": null,
   "id": "cosmetic-klein",
   "metadata": {},
   "outputs": [],
   "source": [
    "def remove_extensions(file_list):\n",
    "    def _remove_ext(file_name):\n",
    "        if \".\" in file_name:\n",
    "            ext = file_name.split(\".\")[-1]\n",
    "        else:\n",
    "            ext = \"\"\n",
    "        return ext\n",
    "\n",
    "    results = []\n",
    "    for i in file_list:\n",
    "        results.append(_remove_ext(i))\n",
    "\n",
    "    return results"
   ]
  },
  {
   "cell_type": "code",
   "execution_count": null,
   "id": "outside-penetration",
   "metadata": {},
   "outputs": [],
   "source": [
    "remove_extensions([\"foo.txt\", \"bar.mp4\", \"python3\"])"
   ]
  },
  {
   "cell_type": "code",
   "execution_count": null,
   "id": "spatial-filter",
   "metadata": {},
   "outputs": [],
   "source": [
    "def remove_extensions(file_list):\n",
    "    def _remove_ext(file_name):\n",
    "        if \".\" not in file_name:\n",
    "            return \"\"\n",
    "\n",
    "        return file_name.split(\".\")[-1]\n",
    "\n",
    "    return [_remove_ext(i) for i in file_list]"
   ]
  },
  {
   "cell_type": "code",
   "execution_count": null,
   "id": "distributed-approach",
   "metadata": {},
   "outputs": [],
   "source": [
    "remove_extensions([\"foo.txt\", \"bar.mp4\", \"python3\"])"
   ]
  },
  {
   "cell_type": "markdown",
   "id": "material-stand",
   "metadata": {},
   "source": [
    "### Exercise"
   ]
  },
  {
   "cell_type": "markdown",
   "id": "authorized-astrology",
   "metadata": {},
   "source": [
    "Create a function called `wrapped_inc` that accepts a value. In the body create a function `_inc` that accepts a value and increments it. Then, still inside the body of the outer function, call `_inc` passing `value` and return the result. When you are done, look at it and explain what happens when you run `wrapped_inc(41)` and what is the result."
   ]
  },
  {
   "cell_type": "code",
   "execution_count": null,
   "id": "prompt-switch",
   "metadata": {},
   "outputs": [],
   "source": [
    "# def wrapped_inc(value):"
   ]
  },
  {
   "cell_type": "markdown",
   "id": "numerical-characteristic",
   "metadata": {},
   "source": [
    "## Functions as return values: factories"
   ]
  },
  {
   "cell_type": "code",
   "execution_count": null,
   "id": "empty-affect",
   "metadata": {},
   "outputs": [],
   "source": [
    "def create_inc():\n",
    "    def _inc(value):\n",
    "        return value + 1\n",
    "\n",
    "    return _inc"
   ]
  },
  {
   "cell_type": "code",
   "execution_count": null,
   "id": "curious-college",
   "metadata": {},
   "outputs": [],
   "source": [
    "f = create_inc()"
   ]
  },
  {
   "cell_type": "code",
   "execution_count": null,
   "id": "useful-bonus",
   "metadata": {},
   "outputs": [],
   "source": [
    "f(5)"
   ]
  },
  {
   "cell_type": "code",
   "execution_count": null,
   "id": "cognitive-belief",
   "metadata": {},
   "outputs": [],
   "source": [
    "def create_inc(steps):\n",
    "    def _inc(value):\n",
    "        return value + steps\n",
    "\n",
    "    return _inc"
   ]
  },
  {
   "cell_type": "code",
   "execution_count": null,
   "id": "electrical-cylinder",
   "metadata": {},
   "outputs": [],
   "source": [
    "inc5 = create_inc(5)"
   ]
  },
  {
   "cell_type": "code",
   "execution_count": null,
   "id": "liberal-necklace",
   "metadata": {},
   "outputs": [],
   "source": [
    "inc10 = create_inc(10)"
   ]
  },
  {
   "cell_type": "code",
   "execution_count": null,
   "id": "perceived-terror",
   "metadata": {},
   "outputs": [],
   "source": [
    "inc5(2)"
   ]
  },
  {
   "cell_type": "code",
   "execution_count": null,
   "id": "mental-boating",
   "metadata": {},
   "outputs": [],
   "source": [
    "inc10(2)"
   ]
  },
  {
   "cell_type": "markdown",
   "id": "silent-fifty",
   "metadata": {},
   "source": [
    "### Exercise 1"
   ]
  },
  {
   "cell_type": "markdown",
   "id": "accepted-truck",
   "metadata": {},
   "source": [
    "We use `apply(square, some_iterable)` and `apply(inc, some_iterable)` a lot on different list so we would like to create two shortcut functions `lsquare` and `linc` that accept only an iterable and perform the action suggested by their name.\n",
    "\n",
    "Write a function called `partial_square` that accepts no arguments and returns a function that runs `square` on an iterable."
   ]
  },
  {
   "cell_type": "code",
   "execution_count": null,
   "id": "provincial-poverty",
   "metadata": {},
   "outputs": [],
   "source": [
    "# def partial_square():\n",
    "#\n",
    "# lsquare = partial_square()\n",
    "# lsquare([1,2,3,4])\n",
    "# [1, 4, 9, 16]"
   ]
  },
  {
   "cell_type": "markdown",
   "id": "innocent-relaxation",
   "metadata": {},
   "source": [
    "### Exercise 2"
   ]
  },
  {
   "cell_type": "markdown",
   "id": "manual-magnet",
   "metadata": {},
   "source": [
    "Improve `partial_square` writing a function called `partial_apply` that accepts a function `func` and returns a function that runs `func` on an iterable."
   ]
  },
  {
   "cell_type": "code",
   "execution_count": null,
   "id": "heavy-venice",
   "metadata": {},
   "outputs": [],
   "source": [
    "# def partial_apply(func):\n",
    "#\n",
    "# lsquare = partial_apply(square)\n",
    "# lsquare([1,2,3,4])\n",
    "# [1, 4, 9, 16]"
   ]
  },
  {
   "cell_type": "markdown",
   "id": "major-lunch",
   "metadata": {},
   "source": [
    "### Batteries included"
   ]
  },
  {
   "cell_type": "markdown",
   "id": "dimensional-seating",
   "metadata": {},
   "source": [
    "* https://docs.python.org/3/library/functools.html#functools.partial"
   ]
  },
  {
   "cell_type": "markdown",
   "id": "deluxe-tribe",
   "metadata": {},
   "source": [
    "## Functions are objects... or are objects functions?"
   ]
  },
  {
   "cell_type": "code",
   "execution_count": null,
   "id": "demonstrated-louis",
   "metadata": {},
   "outputs": [],
   "source": [
    "dir(inc)"
   ]
  },
  {
   "cell_type": "code",
   "execution_count": null,
   "id": "insured-thousand",
   "metadata": {},
   "outputs": [],
   "source": [
    "inc.__name__"
   ]
  },
  {
   "cell_type": "code",
   "execution_count": null,
   "id": "cellular-genre",
   "metadata": {},
   "outputs": [],
   "source": [
    "class Item:\n",
    "    def __init__(self, label):\n",
    "        self.label = label\n",
    "\n",
    "i = Item(\"TNT\")"
   ]
  },
  {
   "cell_type": "code",
   "execution_count": null,
   "id": "homeless-bridge",
   "metadata": {},
   "outputs": [],
   "source": [
    "i"
   ]
  },
  {
   "cell_type": "code",
   "execution_count": null,
   "id": "palestinian-relations",
   "metadata": {},
   "outputs": [],
   "source": [
    "i.label"
   ]
  },
  {
   "cell_type": "code",
   "execution_count": null,
   "id": "wicked-settle",
   "metadata": {},
   "outputs": [],
   "source": [
    "j = Item.__call__(\"TNT\")"
   ]
  },
  {
   "cell_type": "code",
   "execution_count": null,
   "id": "smooth-ozone",
   "metadata": {},
   "outputs": [],
   "source": [
    "j.label"
   ]
  },
  {
   "cell_type": "markdown",
   "id": "common-amateur",
   "metadata": {},
   "source": [
    "## Generic objects"
   ]
  },
  {
   "cell_type": "code",
   "execution_count": null,
   "id": "exposed-helena",
   "metadata": {},
   "outputs": [],
   "source": [
    "class Process:\n",
    "    def __init__(self, func):\n",
    "        self.func = func\n",
    "\n",
    "    def run(self, value):\n",
    "        return self.func(value)"
   ]
  },
  {
   "cell_type": "code",
   "execution_count": null,
   "id": "human-gibraltar",
   "metadata": {},
   "outputs": [],
   "source": [
    "class Square:\n",
    "    def run(self, x):\n",
    "        return x * x\n",
    "\n",
    "def process(filter, value):\n",
    "    f = filter()\n",
    "    return f.run(value)\n",
    "\n",
    "process(Square, 5)"
   ]
  },
  {
   "cell_type": "markdown",
   "id": "acute-shore",
   "metadata": {},
   "source": [
    "### Resources"
   ]
  },
  {
   "cell_type": "markdown",
   "id": "empty-combination",
   "metadata": {},
   "source": [
    "* https://www.thedigitalcatonline.com/blog/2020/03/27/mixin-classes-in-python/"
   ]
  },
  {
   "cell_type": "markdown",
   "id": "occupied-console",
   "metadata": {},
   "source": [
    "## Wrappers"
   ]
  },
  {
   "cell_type": "code",
   "execution_count": null,
   "id": "gothic-hypothesis",
   "metadata": {},
   "outputs": [],
   "source": [
    "class Outer:\n",
    "  class Inner:\n",
    "      pass\n",
    "\n",
    "  def __init__(self):\n",
    "      pass"
   ]
  },
  {
   "cell_type": "markdown",
   "id": "healthy-patent",
   "metadata": {},
   "source": [
    "### Resources"
   ]
  },
  {
   "cell_type": "markdown",
   "id": "breathing-network",
   "metadata": {},
   "source": [
    "* https://docs.djangoproject.com/en/3.1/topics/db/models/#meta-options\n",
    "* https://www.thedigitalcatonline.com/blog/2014/08/20/python-3-oop-part-2-classes-and-members/\n",
    "* https://www.thedigitalcatonline.com/blog/2020/08/17/delegation-composition-and-inheritance-in-object-oriented-programming/"
   ]
  },
  {
   "cell_type": "markdown",
   "id": "excessive-apple",
   "metadata": {},
   "source": [
    "## Factories"
   ]
  },
  {
   "cell_type": "markdown",
   "id": "dutch-burner",
   "metadata": {},
   "source": [
    "### Object factories"
   ]
  },
  {
   "cell_type": "code",
   "execution_count": null,
   "id": "wanted-rescue",
   "metadata": {},
   "outputs": [],
   "source": [
    "def create_type(precision='low'):\n",
    "    if precision == 'low':\n",
    "        return int\n",
    "    elif precision == 'medium':\n",
    "        return float\n",
    "    elif precision == 'high':\n",
    "        from decimal import Decimal\n",
    "        return Decimal\n",
    "    else:\n",
    "        raise ValueError"
   ]
  },
  {
   "cell_type": "code",
   "execution_count": null,
   "id": "standard-murder",
   "metadata": {},
   "outputs": [],
   "source": [
    "gui_input = 3.141592653589793238"
   ]
  },
  {
   "cell_type": "code",
   "execution_count": null,
   "id": "prescribed-earth",
   "metadata": {},
   "outputs": [],
   "source": [
    "low_resolution_input = create_type()(gui_input)\n",
    "low_resolution_input"
   ]
  },
  {
   "cell_type": "code",
   "execution_count": null,
   "id": "integral-assault",
   "metadata": {},
   "outputs": [],
   "source": [
    "medium_resolution_input = create_type(precision=\"medium\")(gui_input)\n",
    "medium_resolution_input"
   ]
  },
  {
   "cell_type": "code",
   "execution_count": null,
   "id": "weird-arkansas",
   "metadata": {},
   "outputs": [],
   "source": [
    "high_resolution_input = create_type(precision=\"high\")(gui_input)\n",
    "high_resolution_input"
   ]
  },
  {
   "cell_type": "code",
   "execution_count": null,
   "id": "powerful-midnight",
   "metadata": {},
   "outputs": [],
   "source": [
    "def init_myint(value):\n",
    "    class MyInt(int):\n",
    "        pass\n",
    "\n",
    "    return MyInt(value)"
   ]
  },
  {
   "cell_type": "code",
   "execution_count": null,
   "id": "italian-exposure",
   "metadata": {},
   "outputs": [],
   "source": [
    "def init_myobj(cls, value):\n",
    "    return cls(value)"
   ]
  },
  {
   "cell_type": "markdown",
   "id": "funny-loading",
   "metadata": {},
   "source": [
    "### Factory objects"
   ]
  },
  {
   "cell_type": "code",
   "execution_count": null,
   "id": "suspected-harbor",
   "metadata": {},
   "outputs": [],
   "source": [
    "class Converter:\n",
    "    def __init__(self, precision='low'):\n",
    "        if precision == 'low':\n",
    "            self._type = int\n",
    "        elif precision == 'medium':\n",
    "            self._type = float\n",
    "        elif precision == 'high':\n",
    "            from decimal import Decimal\n",
    "            self._type = Decimal\n",
    "        else:\n",
    "            raise ValueError\n",
    "\n",
    "    def run(self, value):\n",
    "        return self._type(value)"
   ]
  },
  {
   "cell_type": "markdown",
   "id": "compound-contractor",
   "metadata": {},
   "source": [
    "## Decorators"
   ]
  },
  {
   "cell_type": "code",
   "execution_count": null,
   "id": "french-utilization",
   "metadata": {},
   "outputs": [],
   "source": [
    "def decorator(func):\n",
    "    def _func():\n",
    "        func()\n",
    "    return _func"
   ]
  },
  {
   "cell_type": "code",
   "execution_count": null,
   "id": "direct-routine",
   "metadata": {},
   "outputs": [],
   "source": [
    "@decorator\n",
    "def some_function():\n",
    "    pass"
   ]
  },
  {
   "cell_type": "code",
   "execution_count": null,
   "id": "subjective-performer",
   "metadata": {},
   "outputs": [],
   "source": [
    "def some_function():\n",
    "    pass\n",
    "\n",
    "some_function = decorator(some_function)"
   ]
  },
  {
   "cell_type": "code",
   "execution_count": null,
   "id": "cooperative-metropolitan",
   "metadata": {},
   "outputs": [],
   "source": [
    "def return_true(func):\n",
    "    def _func(*args, **kwargs):\n",
    "        value = func(*args, **kwargs)\n",
    "        if value is None:\n",
    "            return True\n",
    "\n",
    "    return _func"
   ]
  },
  {
   "cell_type": "code",
   "execution_count": null,
   "id": "understood-robertson",
   "metadata": {},
   "outputs": [],
   "source": [
    "@return_true\n",
    "def test():\n",
    "    pass"
   ]
  },
  {
   "cell_type": "code",
   "execution_count": null,
   "id": "basic-preview",
   "metadata": {},
   "outputs": [],
   "source": [
    "test()"
   ]
  },
  {
   "cell_type": "markdown",
   "id": "cooked-pulse",
   "metadata": {},
   "source": [
    "### Resources"
   ]
  },
  {
   "cell_type": "markdown",
   "id": "cultural-metro",
   "metadata": {},
   "source": [
    "* https://www.thedigitalcatonline.com/blog/2015/04/23/python-decorators-metaprogramming-with-style/\n",
    "* https://docs.python.org/3/library/functools.html#functools.wraps\n",
    "* https://flask.palletsprojects.com/en/1.1.x/patterns/appfactories/"
   ]
  },
  {
   "cell_type": "code",
   "execution_count": null,
   "id": "steady-recording",
   "metadata": {},
   "outputs": [],
   "source": []
  }
 ],
 "metadata": {
  "kernelspec": {
   "display_name": "Python 3",
   "language": "python",
   "name": "python3"
  },
  "language_info": {
   "codemirror_mode": {
    "name": "ipython",
    "version": 3
   },
   "file_extension": ".py",
   "mimetype": "text/x-python",
   "name": "python",
   "nbconvert_exporter": "python",
   "pygments_lexer": "ipython3",
   "version": "3.8.5"
  }
 },
 "nbformat": 4,
 "nbformat_minor": 5
}
